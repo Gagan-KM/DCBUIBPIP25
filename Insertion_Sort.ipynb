{
 "cells": [
  {
   "cell_type": "code",
   "execution_count": null,
   "metadata": {},
   "outputs": [],
   "source": [
    "'''Let's sort the array [5, 3, 8, 4, 6] using Insertion Sort:\n",
    "\n",
    "First Pass:\n",
    "Consider the element 3, compare it with 5 and place it before 5:\n",
    "[3, 5, 8, 4, 6]\n",
    "\n",
    "Second Pass:\n",
    "Consider the element 8, since 8 is greater than 5, it remains in place:\n",
    "[3, 5, 8, 4, 6]\n",
    "\n",
    "Third Pass:\n",
    "Consider the element 4, compare it with 8 and 5, place it between 3 and 5:\n",
    "[3, 4, 5, 8, 6]\n",
    "\n",
    "Fourth Pass:\n",
    "Consider the element 6, compare it with 8, place it before 8:\n",
    "[3, 4, 5, 6, 8]\n",
    "\n",
    "Now the array is sorted:\n",
    "\n",
    "[3, 4, 5, 6, 8]'''"
   ]
  },
  {
   "cell_type": "code",
   "execution_count": 10,
   "metadata": {},
   "outputs": [
    {
     "name": "stdout",
     "output_type": "stream",
     "text": [
      "[3, 4, 5, 6, 8], time taken 0.000\n"
     ]
    }
   ],
   "source": [
    "import time\n",
    "def insertion_sort(ele):\n",
    "    n = len(ele)\n",
    "    for i in range(1, n):\n",
    "        anc = ele[i]\n",
    "        j = i - 1\n",
    "        while j >= 0 and anc < ele[j]:\n",
    "            ele[j + 1] = ele[j]\n",
    "            j = j - 1\n",
    "        ele[j + 1] = anc\n",
    "    return ele\n",
    "start_time = time.time()\n",
    "ele = [5, 3, 8, 4, 6]\n",
    "result = insertion_sort(ele)\n",
    "end_time = time.time()\n",
    "print(\"{}, time taken {:.3f}\".format(result, ((start_time - end_time))))"
   ]
  },
  {
   "cell_type": "code",
   "execution_count": 14,
   "metadata": {},
   "outputs": [
    {
     "name": "stdout",
     "output_type": "stream",
     "text": [
      "[1, 2, 5, 9, 34, 34, 67, 88], time taken 0.000\n"
     ]
    }
   ],
   "source": [
    "import time\n",
    "def insertion_sort(ele):\n",
    "    n = len(ele)\n",
    "    for i in range(1, n):\n",
    "        anc = ele[i]\n",
    "        j = i - 1\n",
    "        while ele[j] > anc and j >= 0:\n",
    "            ele[j + 1] = ele[j]\n",
    "            j -= 1\n",
    "        ele[j + 1] = anc\n",
    "    return ele\n",
    "start_time = time.time()\n",
    "ele = [5, 9, 2, 1, 67, 34, 88, 34]\n",
    "result = insertion_sort(ele)\n",
    "end_time = time.time()\n",
    "print(\"{}, time taken {:.3f}\".format(result, ((start_time - end_time))))"
   ]
  },
  {
   "cell_type": "code",
   "execution_count": 19,
   "metadata": {},
   "outputs": [
    {
     "name": "stdout",
     "output_type": "stream",
     "text": [
      "[1, 2, 3, 5, 8], time taken 0.000\n"
     ]
    }
   ],
   "source": [
    "import time\n",
    "def insertion_sort(ele):\n",
    "    n = len(ele)\n",
    "    for i in range(1, n):\n",
    "        anchor = ele[i]\n",
    "        j = i - 1\n",
    "        while anchor < ele[j] and j >= 0:\n",
    "            ele[j + 1] = ele[j]\n",
    "            j = j - 1\n",
    "        ele[j + 1] = anchor\n",
    "    return ele\n",
    "start_time = time.time()\n",
    "ele = [5, 3, 8, 1, 2]\n",
    "result = insertion_sort(ele)\n",
    "end_time = time.time()\n",
    "print(\"{}, time taken {:.3f}\".format(result, ((start_time - end_time))))"
   ]
  },
  {
   "cell_type": "code",
   "execution_count": 21,
   "metadata": {},
   "outputs": [
    {
     "name": "stdout",
     "output_type": "stream",
     "text": [
      "[8, 5, 3, 2, 1], time taken 0.000\n"
     ]
    }
   ],
   "source": [
    "import time\n",
    "def insertion_sort(ele):\n",
    "    n = len(ele)\n",
    "    for i in range(1, n):\n",
    "        anchor = ele[i]\n",
    "        j = i - 1\n",
    "        while j >= 0 and anchor > ele[j]:\n",
    "            ele[j + 1] = ele[j]\n",
    "            j -= 1\n",
    "        ele[j + 1] = anchor\n",
    "    return ele\n",
    "start_time = time.time()\n",
    "ele = [5, 3, 8, 1, 2]\n",
    "result = insertion_sort(ele)\n",
    "end_time = time.time()\n",
    "print(\"{}, time taken {:.3f}\".format(result, ((start_time - end_time))))"
   ]
  },
  {
   "cell_type": "code",
   "execution_count": 50,
   "metadata": {},
   "outputs": [
    {
     "name": "stdout",
     "output_type": "stream",
     "text": [
      "[(4, 1), (2, 2), (1, 3)], time taken 0.000\n"
     ]
    }
   ],
   "source": [
    "import time\n",
    "def insertion_sort(ele):\n",
    "    n = len(ele)\n",
    "    for i in range(1, n):\n",
    "        anchor = ele[i]\n",
    "        j = i - 1\n",
    "        while ele[j][1] > anchor[1] and j >= 0:\n",
    "            ele[j + 1] = ele[j]\n",
    "            j = j - 1\n",
    "        ele[j + 1] = anchor\n",
    "    return ele\n",
    "start_time = time.time()\n",
    "ele = [(1, 3), (4, 1), (2, 2)]\n",
    "result = insertion_sort(ele)\n",
    "end_time = time.time()\n",
    "print(\"{}, time taken {:.3f}\".format(result, ((start_time - end_time))))"
   ]
  },
  {
   "cell_type": "code",
   "execution_count": 52,
   "metadata": {},
   "outputs": [
    {
     "name": "stdout",
     "output_type": "stream",
     "text": [
      "[[3, 2], [0, 6], [1, 7]], time taken 0.000\n"
     ]
    }
   ],
   "source": [
    "import time\n",
    "def insertion_sort(ele):\n",
    "    n = len(ele)\n",
    "    for i in range(1, n):\n",
    "        anchor = ele[i]\n",
    "        j = i - 1\n",
    "        while j >= 0 and sum(anchor) < sum(ele[j]):\n",
    "            ele[j + 1] = ele[j]\n",
    "            j -= 1\n",
    "        ele[j + 1] = anchor\n",
    "    return ele\n",
    "start_time = time.time()\n",
    "ele = [[3, 2], [1, 7], [0, 6]]\n",
    "result = insertion_sort(ele)\n",
    "end_time = time.time()\n",
    "print(\"{}, time taken {:.3f}\".format(result, ((start_time - end_time))))"
   ]
  },
  {
   "cell_type": "code",
   "execution_count": 56,
   "metadata": {},
   "outputs": [
    {
     "name": "stdout",
     "output_type": "stream",
     "text": [
      "[2, 4, 8, 5, 3, 1], time taken -0.001\n"
     ]
    }
   ],
   "source": [
    "import time\n",
    "def insertion_sort(ele):\n",
    "    n = len(ele)\n",
    "    eve = [x for x in ele if x % 2 == 0]\n",
    "    odd = [x for x in ele if x % 2 != 0]\n",
    "    n = len(eve)\n",
    "    for i in range(1, n):\n",
    "        anchor = eve[i]\n",
    "        j = i - 1\n",
    "        while j >= 0 and anchor < eve[j]:\n",
    "            eve[j + 1] = eve[j]\n",
    "            j -= 1\n",
    "        eve[j + 1] = anchor\n",
    "    n = len(odd)\n",
    "    for i in range(1, n):\n",
    "        anchor = odd[i]\n",
    "        j = i - 1\n",
    "        while j >= 0 and anchor > odd[j]:\n",
    "            odd[j + 1] = odd[j]\n",
    "            j -= 1\n",
    "        odd[j + 1] = anchor\n",
    "    return eve + odd\n",
    "start_time = time.time()\n",
    "ele = [5, 3, 2, 8, 1, 4]\n",
    "result = insertion_sort(ele)\n",
    "end_time = time.time()\n",
    "print(\"{}, time taken {:.3f}\".format(result, ((start_time - end_time))))"
   ]
  }
 ],
 "metadata": {
  "kernelspec": {
   "display_name": "base",
   "language": "python",
   "name": "python3"
  },
  "language_info": {
   "codemirror_mode": {
    "name": "ipython",
    "version": 3
   },
   "file_extension": ".py",
   "mimetype": "text/x-python",
   "name": "python",
   "nbconvert_exporter": "python",
   "pygments_lexer": "ipython3",
   "version": "3.11.7"
  }
 },
 "nbformat": 4,
 "nbformat_minor": 2
}
