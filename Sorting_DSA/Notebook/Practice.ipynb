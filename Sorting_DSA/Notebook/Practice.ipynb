{
 "cells": [
  {
   "cell_type": "code",
   "execution_count": 9,
   "metadata": {},
   "outputs": [
    {
     "name": "stdout",
     "output_type": "stream",
     "text": [
      "Sorted list [26, 34, 42, 47, 60, 65, 67, 73, 83, 89], time taken 0.000\n"
     ]
    }
   ],
   "source": [
    "#bubble sort\n",
    "import random\n",
    "import time\n",
    "def sort(ele):\n",
    "    n = len(ele)\n",
    "    for i in range(n - 1):\n",
    "        swap = False\n",
    "        for j in range(n - 1 - i):\n",
    "            if ele[j] > ele[j + 1]:\n",
    "                ele[j], ele[j + 1] = ele[j + 1], ele[j]\n",
    "                swap = True\n",
    "        if not swap:\n",
    "            break\n",
    "    return ele\n",
    "start_time = time.time()\n",
    "ele = random.sample(range(10, 100), 10)\n",
    "result = sort(ele)\n",
    "end_time = time.time()\n",
    "total_time = start_time - end_time\n",
    "print(\"Sorted list {}, time taken {:.3f}\".format(result, total_time))"
   ]
  },
  {
   "cell_type": "code",
   "execution_count": 10,
   "metadata": {},
   "outputs": [
    {
     "name": "stdout",
     "output_type": "stream",
     "text": [
      "Sorted list [17, 21, 24, 25, 29, 44, 52, 55, 61, 70], time taken 0.000\n"
     ]
    }
   ],
   "source": [
    "#selection sort\n",
    "import random\n",
    "import time\n",
    "def sort(ele):\n",
    "    n = len(ele)\n",
    "    for i in range(n - 1):\n",
    "        min_index=  i\n",
    "        for j in range(i + 1, n):\n",
    "            if ele[min_index] > ele[j]:\n",
    "                min_index = j\n",
    "        if i != min_index:\n",
    "            ele[i], ele[min_index] = ele[min_index], ele[i]\n",
    "    return ele\n",
    "start_time = time.time()\n",
    "ele = random.sample(range(10, 100), 10)\n",
    "result = sort(ele)\n",
    "end_time = time.time()\n",
    "total_time = start_time - end_time\n",
    "print(\"Sorted list {}, time taken {:.3f}\".format(result, total_time))"
   ]
  },
  {
   "cell_type": "code",
   "execution_count": 11,
   "metadata": {},
   "outputs": [
    {
     "name": "stdout",
     "output_type": "stream",
     "text": [
      "Sorted list [30, 33, 41, 52, 61, 82, 84, 89, 92, 94], time taken 0.000\n"
     ]
    }
   ],
   "source": [
    "#insertion sort\n",
    "import random\n",
    "import time\n",
    "def sort(ele):\n",
    "    n = len(ele)\n",
    "    for i in range(1, n):\n",
    "        anchor = ele[i]\n",
    "        j = i - 1\n",
    "        while j >= 0 and anchor < ele[j]:\n",
    "            ele[j + 1] = ele[j]\n",
    "            j -= 1\n",
    "        ele[j + 1] = anchor\n",
    "    return ele\n",
    "start_time = time.time()\n",
    "ele = random.sample(range(10, 100), 10)\n",
    "result = sort(ele)\n",
    "end_time = time.time()\n",
    "total_time = start_time - end_time\n",
    "print(\"Sorted list {}, time taken {:.3f}\".format(result, total_time))"
   ]
  },
  {
   "cell_type": "code",
   "execution_count": 7,
   "metadata": {},
   "outputs": [
    {
     "name": "stdout",
     "output_type": "stream",
     "text": [
      "Before [71, 12, 16, 93, 88, 90, 69, 18, 29, 46]\n",
      "The Sorted list [12, 16, 18, 29, 46, 69, 71, 88, 90, 93], time taken 0.001 as of 06-03-2025\n"
     ]
    }
   ],
   "source": [
    "#merge sort\n",
    "import random\n",
    "from datetime import datetime\n",
    "def merge_sort(ele):\n",
    "    n = len(ele)\n",
    "    if n <= 1:\n",
    "        return \n",
    "    mid = n // 2\n",
    "    left = ele[mid:]\n",
    "    right = ele[:mid]\n",
    "    merge_sort(left)\n",
    "    merge_sort(right)\n",
    "    merge_sorted_list(left, right, ele)\n",
    "\n",
    "def merge_sorted_list(l1, l2, ele):\n",
    "    n1 = len(l1)\n",
    "    n2 = len(l2)\n",
    "    i = j = k = 0\n",
    "    while i < n1 and j < n2:\n",
    "        if l1[i] <= l2[j]:\n",
    "            ele[k] = l1[i]\n",
    "            i += 1\n",
    "        else:\n",
    "            ele[k] = l2[j]\n",
    "            j += 1\n",
    "        k += 1\n",
    "    while i < n1:\n",
    "        ele[k] = l1[i]\n",
    "        i += 1\n",
    "        k += 1\n",
    "    while j < n2:\n",
    "        ele[k] = l2[j]\n",
    "        j += 1\n",
    "        k += 1\n",
    "start_time = datetime.now()\n",
    "current_date = datetime.today().strftime(\"%d-%m-%Y\")\n",
    "ele = random.sample(range(10, 100), 10)\n",
    "print(f\"Before {ele}\")\n",
    "merge_sort(ele)\n",
    "end_time = datetime.now()\n",
    "print(\"The Sorted list {}, time taken {:.3f} as of {}\".format(ele, (end_time - start_time).total_seconds(), current_date))"
   ]
  }
 ],
 "metadata": {
  "kernelspec": {
   "display_name": "base",
   "language": "python",
   "name": "python3"
  },
  "language_info": {
   "codemirror_mode": {
    "name": "ipython",
    "version": 3
   },
   "file_extension": ".py",
   "mimetype": "text/x-python",
   "name": "python",
   "nbconvert_exporter": "python",
   "pygments_lexer": "ipython3",
   "version": "3.11.7"
  }
 },
 "nbformat": 4,
 "nbformat_minor": 2
}
