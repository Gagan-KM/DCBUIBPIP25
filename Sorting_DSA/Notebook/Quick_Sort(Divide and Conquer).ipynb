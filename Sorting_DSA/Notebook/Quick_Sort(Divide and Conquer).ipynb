{
 "cells": [
  {
   "cell_type": "code",
   "execution_count": 40,
   "metadata": {},
   "outputs": [
    {
     "data": {
      "text/plain": [
       "\"\\nLet's sort the array [5, 3, 8, 4, 6] using Quick Sort:\\n\\nStep 1: Choose a Pivot and Partition the Array  \\nWe select a pivot element and rearrange the array such that:  \\n- Elements smaller than the pivot are placed on the left.  \\n- Elements greater than the pivot are placed on the right.  \\n\\nFor simplicity, let's choose the last element as the pivot (Lomuto partition scheme).  \\n\\nFirst Partition (Pivot = 6):  \\nInitial array: [5, 3, 8, 4, 6]  \\n\\n1. Compare 5 with 6 → Keep it (left side).  \\n2. Compare 3 with 6 → Keep it (left side).      \\n3. Compare 8 with 6 → Ignore (right side).  \\n4. Compare 4 with 6 → Keep it (left side).  \\n\\nAfter rearranging: [5, 3, 4, 6, 8]  \\nPivot 6 is now correctly placed.  \\n\\nSub-arrays:  \\n- Left: [5, 3, 4]  \\n- Right: [8] (Already sorted)  \\n\\nStep 2: Recursively Apply Quick Sort  \\nSort Left Sub-array [5, 3, 4] (Pivot = 4):  \\n\\n1. Compare 5 with 4 → Move to the right.  \\n2. Compare 3 with 4 → Keep it on the left.  \\n\\nAfter rearranging: [3, 4, 5]  \\nPivot 4 is now correctly placed.  \\n\\nSub-arrays:  \\n- Left: [3] (Already sorted)  \\n- Right: [5] (Already sorted)  \\n\\nStep 3: Combine All Sorted Parts  \\nAfter sorting all partitions, we get the final sorted array:  \\n\\nFinal Sorted Array: [3, 4, 5, 6, 8]  \\n\\nQuick Sort Complexity Analysis:  \\n- Best & Average Case: O(n log n) (when pivot divides array evenly)  \\n- Worst Case: O(n^2) (when array is already sorted, but can be optimized with better pivot selection)  \\n- Stable Sort: No (relative order of equal elements may change)  \\n- In-place Sort: Yes (modifies array in place)  \\n\""
      ]
     },
     "execution_count": 40,
     "metadata": {},
     "output_type": "execute_result"
    }
   ],
   "source": [
    "'''\n",
    "Let's sort the array [5, 3, 8, 4, 6] using Quick Sort:\n",
    "\n",
    "Step 1: Choose a Pivot and Partition the Array  \n",
    "We select a pivot element and rearrange the array such that:  \n",
    "- Elements smaller than the pivot are placed on the left.  \n",
    "- Elements greater than the pivot are placed on the right.  \n",
    "\n",
    "For simplicity, let's choose the last element as the pivot (Lomuto partition scheme).  \n",
    "\n",
    "First Partition (Pivot = 6):  \n",
    "Initial array: [5, 3, 8, 4, 6]  \n",
    "\n",
    "1. Compare 5 with 6 → Keep it (left side).  \n",
    "2. Compare 3 with 6 → Keep it (left side).      \n",
    "3. Compare 8 with 6 → Ignore (right side).  \n",
    "4. Compare 4 with 6 → Keep it (left side).  \n",
    "\n",
    "After rearranging: [5, 3, 4, 6, 8]  \n",
    "Pivot 6 is now correctly placed.  \n",
    "\n",
    "Sub-arrays:  \n",
    "- Left: [5, 3, 4]  \n",
    "- Right: [8] (Already sorted)  \n",
    "\n",
    "Step 2: Recursively Apply Quick Sort  \n",
    "Sort Left Sub-array [5, 3, 4] (Pivot = 4):  \n",
    "\n",
    "1. Compare 5 with 4 → Move to the right.  \n",
    "2. Compare 3 with 4 → Keep it on the left.  \n",
    "\n",
    "After rearranging: [3, 4, 5]  \n",
    "Pivot 4 is now correctly placed.  \n",
    "\n",
    "Sub-arrays:  \n",
    "- Left: [3] (Already sorted)  \n",
    "- Right: [5] (Already sorted)  \n",
    "\n",
    "Step 3: Combine All Sorted Parts  \n",
    "After sorting all partitions, we get the final sorted array:  \n",
    "\n",
    "Final Sorted Array: [3, 4, 5, 6, 8]  \n",
    "\n",
    "Quick Sort Complexity Analysis:  \n",
    "- Best & Average Case: O(n log n) (when pivot divides array evenly)  \n",
    "- Worst Case: O(n^2) (when array is already sorted, but can be optimized with better pivot selection)  \n",
    "- Stable Sort: No (relative order of equal elements may change)  \n",
    "- In-place Sort: Yes (modifies array in place)  \n",
    "'''"
   ]
  },
  {
   "cell_type": "code",
   "execution_count": 41,
   "metadata": {},
   "outputs": [
    {
     "name": "stdout",
     "output_type": "stream",
     "text": [
      "Before [9, 3, 7, 2, 8, 6, 1]\n",
      "The Sorted List [1, 2, 3, 6, 7, 8, 9], time taken 0.001 as of 06-03-2025\n"
     ]
    }
   ],
   "source": [
    "from datetime import datetime\n",
    "def partition(ele, low, high):\n",
    "    p = ele[low]\n",
    "    i = low\n",
    "    j = high\n",
    "    \n",
    "    while True:\n",
    "        while i <= j and ele[i] <= p:\n",
    "            i += 1\n",
    "        while i <= j and ele[j] >= p:\n",
    "            j -= 1\n",
    "        if i < j:\n",
    "            ele[i], ele[j] = ele[j], ele[i]\n",
    "        else:\n",
    "            break\n",
    "    ele[low], ele[j] = ele[j], ele[low]\n",
    "    return j\n",
    "def quick_sort(ele, low, high):\n",
    "    if low < high:\n",
    "        pivot = partition(ele, low, high)\n",
    "        quick_sort(ele, low, pivot - 1)\n",
    "        quick_sort(ele, pivot + 1, high)\n",
    "\n",
    "start_time = datetime.now()\n",
    "current_date = datetime.today().strftime(\"%d-%m-%Y\")\n",
    "ele = [9, 3, 7, 2, 8, 6, 1]\n",
    "print(f\"Before {ele}\")\n",
    "quick_sort(ele, 0, len(ele) - 1)\n",
    "end_time = datetime.now()\n",
    "print(\"The Sorted List {}, time taken {:.3f} as of {}\".format(ele, (end_time - start_time).total_seconds(), current_date))"
   ]
  },
  {
   "cell_type": "code",
   "execution_count": 42,
   "metadata": {},
   "outputs": [
    {
     "name": "stdout",
     "output_type": "stream",
     "text": [
      "Before [5, 9, 2, 1, 67, 34, 88, 34]\n",
      "The Sorted List [1, 2, 5, 9, 34, 34, 67, 88], time taken 0.000 as of 06-03-2025\n"
     ]
    }
   ],
   "source": [
    "from datetime import datetime\n",
    "def partition(ele, low, high):\n",
    "    i = low\n",
    "    j = high\n",
    "    p = ele[low]\n",
    "    while True:\n",
    "        while i <= j and ele[i] <= p:\n",
    "            i += 1\n",
    "        while i <=j and ele[j] >= p:\n",
    "            j -= 1\n",
    "        if i <= j:\n",
    "            ele[i], ele[j] = ele[j], ele[i]\n",
    "        else:\n",
    "            break\n",
    "    ele[low], ele[j] = ele[j], ele[low]\n",
    "    return j\n",
    "def quick_sort(ele, low, high):\n",
    "    if low < high:\n",
    "        pivot = partition(ele, low, high)\n",
    "        quick_sort(ele, low, pivot - 1)\n",
    "        quick_sort(ele, pivot + 1, high)\n",
    "\n",
    "start_time = datetime.now()\n",
    "current_date = datetime.today().strftime(\"%d-%m-%Y\")\n",
    "ele = [5, 9, 2, 1, 67, 34, 88, 34]\n",
    "print(f\"Before {ele}\")\n",
    "quick_sort(ele, 0, len(ele) - 1)\n",
    "end_time = datetime.now()\n",
    "print(\"The Sorted List {}, time taken {:.3f} as of {}\".format(ele, (end_time - start_time).total_seconds(), current_date))"
   ]
  },
  {
   "cell_type": "code",
   "execution_count": 43,
   "metadata": {},
   "outputs": [
    {
     "name": "stdout",
     "output_type": "stream",
     "text": [
      "Before [68, 10, 76, 94, 22, 35, 64, 57, 36, 90]\n",
      "The Sorted list [10, 22, 35, 36, 57, 64, 68, 76, 90, 94], time taken 0.000 as of 06-03-2025\n"
     ]
    }
   ],
   "source": [
    "import random\n",
    "from datetime import datetime\n",
    "def partition(ele, low, high):\n",
    "    p = ele[low]\n",
    "    i = low\n",
    "    j = high\n",
    "    \n",
    "    while True:\n",
    "        while i <= j and ele[i] <= p:\n",
    "            i += 1\n",
    "        while i <= j and ele[j] >= p:\n",
    "            j -= 1\n",
    "        if i <= j:\n",
    "            ele[i], ele[j] = ele[j], ele[i]\n",
    "        else:\n",
    "            break\n",
    "    ele[low], ele[j] = ele[j], ele[low]\n",
    "    return j \n",
    "\n",
    "def quick_sort(ele, low, high):\n",
    "    if low < high:\n",
    "        pivot = partition(ele, low, high)\n",
    "        quick_sort(ele, low, pivot - 1)\n",
    "        quick_sort(ele, pivot + 1, high)\n",
    "\n",
    "start_time = datetime.now()\n",
    "current_date = datetime.today().strftime(\"%d-%m-%Y\")\n",
    "ele = random.sample(range(10, 100), 10)\n",
    "print(f\"Before {ele}\")\n",
    "quick_sort(ele, 0, len(ele) - 1)\n",
    "end_time = datetime.now()\n",
    "print(\"The Sorted list {}, time taken {:.3f} as of {}\".format(ele, (end_time - start_time).total_seconds(), current_date))"
   ]
  },
  {
   "cell_type": "code",
   "execution_count": 47,
   "metadata": {},
   "outputs": [
    {
     "name": "stdout",
     "output_type": "stream",
     "text": [
      "Before [{'name': 'vedanth', 'age': 17, 'time_hours': 1}, {'name': 'rajab', 'age': 12, 'time_hours': 3}, {'name': 'vignesh', 'age': 21, 'time_hours': 2.5}, {'name': 'chinmay', 'age': 24, 'time_hours': 1.5}]\n",
      "The Sorted list \n",
      "[{'name': 'vedanth', 'age': 17, 'time_hours': 1}, {'name': 'chinmay', 'age': 24, 'time_hours': 1.5}, {'name': 'vignesh', 'age': 21, 'time_hours': 2.5}, {'name': 'rajab', 'age': 12, 'time_hours': 3}], \n",
      "time taken 0.000 as of 06-03-2025\n"
     ]
    }
   ],
   "source": [
    "import random\n",
    "from datetime import datetime\n",
    "\n",
    "def partition(ele, low, high):\n",
    "    i = low\n",
    "    j = high\n",
    "    p = ele[low]['time_hours']\n",
    "    while True:\n",
    "        while i <= j and ele[i]['time_hours'] <= p:\n",
    "            i += 1\n",
    "        while i <=j and ele[j]['time_hours'] >= p:\n",
    "            j -= 1\n",
    "        if i <= j:\n",
    "            ele[i], ele[j] = ele[j], ele[i]\n",
    "        else:\n",
    "            break\n",
    "    ele[low], ele[j] = ele[j], ele[low]\n",
    "    return j\n",
    "\n",
    "def quick_sort(ele, low, high):\n",
    "    if low < high:\n",
    "        pivot = partition(ele, low, high)\n",
    "        quick_sort(ele, low, pivot - 1)\n",
    "        quick_sort(ele, pivot + 1, high)\n",
    "\n",
    "start_time = datetime.now()\n",
    "current_date = datetime.today().strftime(\"%d-%m-%Y\")\n",
    "ele = [\n",
    "        { 'name': 'vedanth',   'age': 17, 'time_hours': 1},\n",
    "        { 'name': 'rajab', 'age': 12,  'time_hours': 3},\n",
    "        { 'name': 'vignesh',  'age': 21,  'time_hours': 2.5},\n",
    "        { 'name': 'chinmay',  'age': 24,  'time_hours': 1.5},\n",
    "    ]\n",
    "print(f\"Before {ele}\")\n",
    "quick_sort(ele, 0, len(ele) - 1)\n",
    "end_time = datetime.now()\n",
    "print(\"The Sorted list \\n{}, \\ntime taken {:.3f} as of {}\".format(ele, (end_time - start_time).total_seconds(), current_date))"
   ]
  },
  {
   "cell_type": "code",
   "execution_count": 49,
   "metadata": {},
   "outputs": [
    {
     "name": "stdout",
     "output_type": "stream",
     "text": [
      "Before [(1, 3), (4, 1), (2, 2)]\n",
      "The Sorted dictionary [(4, 1), (2, 2), (1, 3)], time taken 0.000 as of 06-03-2025\n"
     ]
    }
   ],
   "source": [
    "import random\n",
    "from datetime import datetime\n",
    "\n",
    "def partition(ele, low, high):\n",
    "    i = low\n",
    "    j = high\n",
    "    p = ele[low][1]\n",
    "\n",
    "    while True:\n",
    "        while i <= j and ele[i][1] <= p:\n",
    "            i += 1\n",
    "        while i <= j and ele[j][1] >= p:\n",
    "            j -= 1\n",
    "        if i <= j:\n",
    "            ele[i], ele[j] = ele[j], ele[i]\n",
    "        else:\n",
    "            break\n",
    "    ele[low], ele[j] = ele[j], ele[low]\n",
    "    return j\n",
    "\n",
    "def quick_sort(ele, low, high):\n",
    "    if low < high:\n",
    "        pivot = partition(ele, low, high)\n",
    "        quick_sort(ele, low, pivot - 1)\n",
    "        quick_sort(ele, pivot + 1, high)\n",
    "\n",
    "start_time = datetime.now()\n",
    "current_date = datetime.today().strftime(\"%d-%m-%Y\")\n",
    "ele = [(1, 3), (4, 1), (2, 2)]\n",
    "print(f\"Before {ele}\")\n",
    "quick_sort(ele, 0, len(ele) - 1)\n",
    "ele\n",
    "end_time = datetime.now()\n",
    "print(\"The Sorted dictionary {}, time taken {:.3f} as of {}\".format(ele, (end_time - start_time).total_seconds(), current_date))"
   ]
  }
 ],
 "metadata": {
  "kernelspec": {
   "display_name": "base",
   "language": "python",
   "name": "python3"
  },
  "language_info": {
   "codemirror_mode": {
    "name": "ipython",
    "version": 3
   },
   "file_extension": ".py",
   "mimetype": "text/x-python",
   "name": "python",
   "nbconvert_exporter": "python",
   "pygments_lexer": "ipython3",
   "version": "3.11.7"
  }
 },
 "nbformat": 4,
 "nbformat_minor": 2
}
