{
 "cells": [
  {
   "cell_type": "markdown",
   "metadata": {},
   "source": [
    "## Selection Sort"
   ]
  },
  {
   "cell_type": "code",
   "execution_count": 1,
   "metadata": {},
   "outputs": [
    {
     "data": {
      "text/plain": [
       "\"Let's sort the array [5, 3, 8, 4, 6] using Selection Sort:\\n\\nFirst Pass:\\nFind the smallest element in the array [5, 3, 8, 4, 6]. The smallest element is 3.\\nSwap 3 with the first element (5) → [3, 5, 8, 4, 6] After the first pass, \\nthe smallest element (3) is in its correct position.\\n\\nSecond Pass:\\nFind the smallest element in the remaining sub-array [5, 8, 4, 6]. The smallest element is 4.\\nSwap 4 with the second element (5) → [3, 4, 8, 5, 6] After the second pass, \\nthe second smallest element (4) is in its correct position.\\n\\nThird Pass:\\nFind the smallest element in the remaining sub-array [8, 5, 6]. The smallest element is 5.\\nSwap 5 with the third element (8) → [3, 4, 5, 8, 6] After the third pass, \\nthe third smallest element (5) is in its correct position.\\n\\nFourth Pass:\\nFind the smallest element in the remaining sub-array [8, 6]. The smallest element is 6.\\nSwap 6 with the fourth element (8) → [3, 4, 5, 6, 8] After the fourth pass, \\nthe fourth smallest element (6) is in its correct position.\\n\\nNow the array is sorted!\""
      ]
     },
     "execution_count": 1,
     "metadata": {},
     "output_type": "execute_result"
    }
   ],
   "source": [
    "'''Let's sort the array [5, 3, 8, 4, 6] using Selection Sort:\n",
    "\n",
    "First Pass:\n",
    "Find the smallest element in the array [5, 3, 8, 4, 6]. The smallest element is 3.\n",
    "Swap 3 with the first element (5) → [3, 5, 8, 4, 6] After the first pass, \n",
    "the smallest element (3) is in its correct position.\n",
    "\n",
    "Second Pass:\n",
    "Find the smallest element in the remaining sub-array [5, 8, 4, 6]. The smallest element is 4.\n",
    "Swap 4 with the second element (5) → [3, 4, 8, 5, 6] After the second pass, \n",
    "the second smallest element (4) is in its correct position.\n",
    "\n",
    "Third Pass:\n",
    "Find the smallest element in the remaining sub-array [8, 5, 6]. The smallest element is 5.\n",
    "Swap 5 with the third element (8) → [3, 4, 5, 8, 6] After the third pass, \n",
    "the third smallest element (5) is in its correct position.\n",
    "\n",
    "Fourth Pass:\n",
    "Find the smallest element in the remaining sub-array [8, 6]. The smallest element is 6.\n",
    "Swap 6 with the fourth element (8) → [3, 4, 5, 6, 8] After the fourth pass, \n",
    "the fourth smallest element (6) is in its correct position.\n",
    "\n",
    "Now the array is sorted!'''"
   ]
  },
  {
   "cell_type": "code",
   "execution_count": 40,
   "metadata": {},
   "outputs": [
    {
     "name": "stdout",
     "output_type": "stream",
     "text": [
      "[1, 2, 5, 9, 34, 34, 67, 88], time taken 0.000\n"
     ]
    }
   ],
   "source": [
    "import time\n",
    "def selection_sort(ele):\n",
    "    n = len(ele)\n",
    "    for i in range(n):\n",
    "        min_index = i\n",
    "        for j in range(i + 1, n):\n",
    "            if ele[min_index] > ele[j]:\n",
    "                min_index = j\n",
    "        if i != min_index:\n",
    "            ele[i], ele[min_index] = ele[min_index], ele[i]\n",
    "    return ele\n",
    "start_time = time.time()\n",
    "result = selection_sort(ele = [5, 9, 2, 1, 67, 34, 88, 34])\n",
    "end_time = time.time()\n",
    "print(\"{}, time taken {:.3f}\".format(result, ((start_time - end_time))))"
   ]
  },
  {
   "cell_type": "code",
   "execution_count": 39,
   "metadata": {},
   "outputs": [
    {
     "name": "stdout",
     "output_type": "stream",
     "text": [
      "[1, 2, 3, 5, 8], time taken 0.000\n"
     ]
    }
   ],
   "source": [
    "import time\n",
    "def selection_sort(ele):\n",
    "    n = len(ele)\n",
    "    for k in range(n):\n",
    "        min_index = k\n",
    "        for i in range(k + 1, n):\n",
    "            if ele[min_index] > ele[i]:\n",
    "                min_index = i\n",
    "        if k != min_index:\n",
    "            ele[k], ele[min_index] = ele[min_index], ele[k]\n",
    "\n",
    "    return ele\n",
    "start_time = time.time()\n",
    "ele = [5, 3, 8, 1, 2]\n",
    "result = selection_sort(ele)\n",
    "end_time = time.time()\n",
    "print(\"{}, time taken {:.3f}\".format(result, ((start_time - end_time))))"
   ]
  },
  {
   "cell_type": "code",
   "execution_count": 43,
   "metadata": {},
   "outputs": [
    {
     "name": "stdout",
     "output_type": "stream",
     "text": [
      "[8, 5, 3, 2, 1], time taken 0.000\n"
     ]
    }
   ],
   "source": [
    "import time\n",
    "def selection_sort(ele):\n",
    "    n = len(ele)\n",
    "    for i in range(n - 1):\n",
    "        min_index = i\n",
    "        for j in range(i + 1, n):\n",
    "            if ele[min_index] < ele[j]:\n",
    "                min_index = j\n",
    "        if i != min_index:\n",
    "            ele[i], ele[min_index] = ele[min_index], ele[i] \n",
    "    return ele\n",
    "start_time = time.time()\n",
    "ele = [5, 3, 8, 1, 2]\n",
    "result = selection_sort(ele)\n",
    "end_time = time.time()\n",
    "print(\"{}, time taken {:.3f}\".format(result, ((start_time - end_time))))"
   ]
  },
  {
   "cell_type": "code",
   "execution_count": 62,
   "metadata": {},
   "outputs": [
    {
     "name": "stdout",
     "output_type": "stream",
     "text": [
      "[{'First Name': 'Aahana', 'Last Name': 'Arora'}, {'First Name': 'Armaan', 'Last Name': 'Kumar'}, {'First Name': 'Armaan', 'Last Name': 'Dadra'}, {'First Name': 'Ingrid', 'Last Name': 'Galore'}, {'First Name': 'Ingrid', 'Last Name': 'Maverick'}, {'First Name': 'Jade', 'Last Name': 'Canary'}, {'First Name': 'Jaya', 'Last Name': 'Sharma'}, {'First Name': 'Jaya', 'Last Name': 'Seth'}, {'First Name': 'Karan', 'Last Name': 'Kumar'}, {'First Name': 'Kiran', 'Last Name': 'Kamla'}, {'First Name': 'Raj', 'Last Name': 'Sharma'}, {'First Name': 'Raj', 'Last Name': 'Thakur'}, {'First Name': 'Raj', 'Last Name': 'Nayyar'}, {'First Name': 'Suraj', 'Last Name': 'Sharma'}], time taken 0.000\n"
     ]
    }
   ],
   "source": [
    "import time\n",
    "def selection_sort(ele):\n",
    "    n = len(ele)\n",
    "    for k in range(n - 1):\n",
    "        min_index = k\n",
    "        for i in range(k + 1, n):\n",
    "            if ele[min_index]['First Name'] > ele[i]['First Name']:\n",
    "                min_index = i\n",
    "        if k != min_index:\n",
    "            ele[k], ele[min_index] = ele[min_index], ele[k]\n",
    "    return ele\n",
    "start_time = time.time()\n",
    "ele = [\n",
    "    {'First Name': 'Raj', 'Last Name': 'Nayyar'},\n",
    "    {'First Name': 'Suraj', 'Last Name': 'Sharma'},\n",
    "    {'First Name': 'Karan', 'Last Name': 'Kumar'},\n",
    "    {'First Name': 'Jade', 'Last Name': 'Canary'},\n",
    "    {'First Name': 'Raj', 'Last Name': 'Thakur'},\n",
    "    {'First Name': 'Raj', 'Last Name': 'Sharma'},\n",
    "    {'First Name': 'Kiran', 'Last Name': 'Kamla'},\n",
    "    {'First Name': 'Armaan', 'Last Name': 'Kumar'},\n",
    "    {'First Name': 'Jaya', 'Last Name': 'Sharma'},\n",
    "    {'First Name': 'Ingrid', 'Last Name': 'Galore'},\n",
    "    {'First Name': 'Jaya', 'Last Name': 'Seth'},\n",
    "    {'First Name': 'Armaan', 'Last Name': 'Dadra'},\n",
    "    {'First Name': 'Ingrid', 'Last Name': 'Maverick'},\n",
    "    {'First Name': 'Aahana', 'Last Name': 'Arora'}\n",
    "]\n",
    "result = selection_sort(ele)\n",
    "end_time = time.time()\n",
    "print(\"{}, time taken {:.3f}\".format(result, ((start_time - end_time))))"
   ]
  },
  {
   "cell_type": "code",
   "execution_count": 68,
   "metadata": {},
   "outputs": [
    {
     "name": "stdout",
     "output_type": "stream",
     "text": [
      "[[3, 2], [0, 6], [1, 7], [11, 10]], time taken 0.000\n"
     ]
    }
   ],
   "source": [
    "import time\n",
    "def selection_sort(ele):\n",
    "    n = len(ele)\n",
    "    for i in range(n - 1):\n",
    "        min_index = i\n",
    "        for j in range(i + 1, n):\n",
    "            if ele[min_index] > ele[j]:\n",
    "                if sum(ele[min_index]) > sum(ele[j]):\n",
    "                    min_index = j\n",
    "        if i != min_index:\n",
    "            ele[i], ele[min_index] = ele[min_index], ele[i]\n",
    "    return ele\n",
    "start_time = time.time()\n",
    "ele = [[3, 2], [11, 10], [1, 7], [0, 6]]\n",
    "result  = selection_sort(ele)\n",
    "end_time = time.time()\n",
    "print(\"{}, time taken {:.3f}\".format(result, ((start_time - end_time)))) "
   ]
  },
  {
   "cell_type": "code",
   "execution_count": 78,
   "metadata": {},
   "outputs": [
    {
     "name": "stdout",
     "output_type": "stream",
     "text": [
      "[2, 4, 8, 5, 3, 1], time taken 0.000\n"
     ]
    }
   ],
   "source": [
    "import time\n",
    "def selection_sort(ele):\n",
    "    eve = [x for x in ele if x % 2 == 0]\n",
    "    odd = [x for x in ele if x % 2 != 0]\n",
    "    n = len(eve)\n",
    "    for i in range(n - 1):\n",
    "        min_index = i\n",
    "        for j in range(i + 1, n):\n",
    "            if eve[min_index] > eve[j]:\n",
    "                min_index = j\n",
    "        if i != min_index:\n",
    "            eve[i], eve[min_index] = eve[min_index], eve[i]\n",
    "    n = len(odd)\n",
    "    for i in range(n - 1):\n",
    "        min_index = i\n",
    "        for j in range(i + 1, n):\n",
    "            if odd[min_index] < odd[j]:\n",
    "                min_index = j\n",
    "        if i != min_index:\n",
    "            odd[i], odd[min_index] = odd[min_index], odd[i]\n",
    "    return eve + odd\n",
    "start_time = time.time()\n",
    "ele = [5, 3, 2, 8, 1, 4]\n",
    "result  = selection_sort(ele)\n",
    "end_time = time.time()\n",
    "print(\"{}, time taken {:.3f}\".format(result, ((start_time - end_time))))"
   ]
  },
  {
   "cell_type": "code",
   "execution_count": 84,
   "metadata": {},
   "outputs": [
    {
     "name": "stdout",
     "output_type": "stream",
     "text": [
      "[(4, 1), (2, 2), (1, 3)], time taken 0.000\n"
     ]
    }
   ],
   "source": [
    "import time\n",
    "def selection_sort(ele):\n",
    "    n = len(ele)\n",
    "    for i in range(n - 1):\n",
    "        min_index = i\n",
    "        for j in range(i + 1, n):\n",
    "            if ele[j][1] < ele[min_index][1]:\n",
    "                min_index = j\n",
    "        if i != min_index:\n",
    "            ele[i], ele[min_index] = ele[min_index], ele[i]\n",
    "    return ele\n",
    "start_time = time.time()\n",
    "ele = [(1, 3), (4, 1), (2, 2)]\n",
    "result  = selection_sort(ele)\n",
    "end_time = time.time()\n",
    "print(\"{}, time taken {:.3f}\".format(result, ((start_time - end_time))))"
   ]
  },
  {
   "cell_type": "code",
   "execution_count": null,
   "metadata": {},
   "outputs": [
    {
     "name": "stdout",
     "output_type": "stream",
     "text": [
      "[1, 2, 3, 5, 8], time taken 0.000\n"
     ]
    }
   ],
   "source": [
    "import time\n",
    "def selection_sort(ele):\n",
    "    n = len(ele)\n",
    "    for i in range(n):\n",
    "        min_index = i\n",
    "        for j in range(i + 1, n):\n",
    "            if ele[j] < ele[min_index]:\n",
    "                min_index = j\n",
    "        if i != min_index:\n",
    "            ele[i], ele[min_index] = ele[min_index], ele[i]\n",
    "    return ele\n",
    "start_time = time.time()\n",
    "ele = [5, 3, 8, 1, 2]\n",
    "result = selection_sort(ele)\n",
    "end_time = time.time()\n",
    "print(\"{}, time taken {:.3f}\".format(result, ((start_time - end_time))))"
   ]
  }
 ],
 "metadata": {
  "kernelspec": {
   "display_name": "base",
   "language": "python",
   "name": "python3"
  },
  "language_info": {
   "codemirror_mode": {
    "name": "ipython",
    "version": 3
   },
   "file_extension": ".py",
   "mimetype": "text/x-python",
   "name": "python",
   "nbconvert_exporter": "python",
   "pygments_lexer": "ipython3",
   "version": "3.11.7"
  }
 },
 "nbformat": 4,
 "nbformat_minor": 2
}
