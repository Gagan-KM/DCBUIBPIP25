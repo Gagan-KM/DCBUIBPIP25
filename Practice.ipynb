{
 "cells": [
  {
   "cell_type": "code",
   "execution_count": 9,
   "metadata": {},
   "outputs": [
    {
     "name": "stdout",
     "output_type": "stream",
     "text": [
      "Sorted list [26, 34, 42, 47, 60, 65, 67, 73, 83, 89], time taken 0.000\n"
     ]
    }
   ],
   "source": [
    "#bubble sort\n",
    "import random\n",
    "import time\n",
    "def sort(ele):\n",
    "    n = len(ele)\n",
    "    for i in range(n - 1):\n",
    "        swap = False\n",
    "        for j in range(n - 1 - i):\n",
    "            if ele[j] > ele[j + 1]:\n",
    "                ele[j], ele[j + 1] = ele[j + 1], ele[j]\n",
    "                swap = True\n",
    "        if not swap:\n",
    "            break\n",
    "    return ele\n",
    "start_time = time.time()\n",
    "ele = random.sample(range(10, 100), 10)\n",
    "result = sort(ele)\n",
    "end_time = time.time()\n",
    "total_time = start_time - end_time\n",
    "print(\"Sorted list {}, time taken {:.3f}\".format(result, total_time))"
   ]
  },
  {
   "cell_type": "code",
   "execution_count": 10,
   "metadata": {},
   "outputs": [
    {
     "name": "stdout",
     "output_type": "stream",
     "text": [
      "Sorted list [17, 21, 24, 25, 29, 44, 52, 55, 61, 70], time taken 0.000\n"
     ]
    }
   ],
   "source": [
    "#selection sort\n",
    "import random\n",
    "import time\n",
    "def sort(ele):\n",
    "    n = len(ele)\n",
    "    for i in range(n - 1):\n",
    "        min_index=  i\n",
    "        for j in range(i + 1, n):\n",
    "            if ele[min_index] > ele[j]:\n",
    "                min_index = j\n",
    "        if i != min_index:\n",
    "            ele[i], ele[min_index] = ele[min_index], ele[i]\n",
    "    return ele\n",
    "start_time = time.time()\n",
    "ele = random.sample(range(10, 100), 10)\n",
    "result = sort(ele)\n",
    "end_time = time.time()\n",
    "total_time = start_time - end_time\n",
    "print(\"Sorted list {}, time taken {:.3f}\".format(result, total_time))"
   ]
  },
  {
   "cell_type": "code",
   "execution_count": 11,
   "metadata": {},
   "outputs": [
    {
     "name": "stdout",
     "output_type": "stream",
     "text": [
      "Sorted list [30, 33, 41, 52, 61, 82, 84, 89, 92, 94], time taken 0.000\n"
     ]
    }
   ],
   "source": [
    "#insertion sort\n",
    "import random\n",
    "import time\n",
    "def sort(ele):\n",
    "    n = len(ele)\n",
    "    for i in range(1, n):\n",
    "        anchor = ele[i]\n",
    "        j = i - 1\n",
    "        while j >= 0 and anchor < ele[j]:\n",
    "            ele[j + 1] = ele[j]\n",
    "            j -= 1\n",
    "        ele[j + 1] = anchor\n",
    "    return ele\n",
    "start_time = time.time()\n",
    "ele = random.sample(range(10, 100), 10)\n",
    "result = sort(ele)\n",
    "end_time = time.time()\n",
    "total_time = start_time - end_time\n",
    "print(\"Sorted list {}, time taken {:.3f}\".format(result, total_time))"
   ]
  }
 ],
 "metadata": {
  "kernelspec": {
   "display_name": "base",
   "language": "python",
   "name": "python3"
  },
  "language_info": {
   "codemirror_mode": {
    "name": "ipython",
    "version": 3
   },
   "file_extension": ".py",
   "mimetype": "text/x-python",
   "name": "python",
   "nbconvert_exporter": "python",
   "pygments_lexer": "ipython3",
   "version": "3.11.7"
  }
 },
 "nbformat": 4,
 "nbformat_minor": 2
}
