{
 "cells": [
  {
   "cell_type": "markdown",
   "metadata": {},
   "source": [
    "# Bubble Sort"
   ]
  },
  {
   "cell_type": "code",
   "execution_count": null,
   "metadata": {},
   "outputs": [],
   "source": [
    "'''\n",
    "Let's sort the array [5, 3, 8, 4, 6] using Bubble Sort:\n",
    "\n",
    "First Pass:\n",
    "Compare 5 and 3: Swap → [3, 5, 8, 4, 6]\n",
    "Compare 5 and 8: No swap → [3, 5, 8, 4, 6]\n",
    "Compare 8 and 4: Swap → [3, 5, 4, 8, 6]\n",
    "Compare 8 and 6: Swap → [3, 5, 4, 6, 8]\n",
    "After the first pass, the largest element (8) is in its correct position.\n",
    "\n",
    "Second Pass:\n",
    "Compare 3 and 5: No swap → [3, 5, 4, 6, 8]\n",
    "Compare 5 and 4: Swap → [3, 4, 5, 6, 8]\n",
    "Compare 5 and 6: No swap → [3, 4, 5, 6, 8]\n",
    "After the second pass, the second largest element (6) is in its correct position.\n",
    "\n",
    "Third Pass:\n",
    "Compare 3 and 4: No swap → [3, 4, 5, 6, 8]\n",
    "Compare 4 and 5: No swap → [3, 4, 5, 6, 8]\n",
    "\n",
    "No swaps were made in this pass, so the array is now sorted. \n",
    "'''"
   ]
  },
  {
   "cell_type": "code",
   "execution_count": 125,
   "metadata": {},
   "outputs": [
    {
     "name": "stdout",
     "output_type": "stream",
     "text": [
      "None, time taken 0.000\n"
     ]
    }
   ],
   "source": [
    "import time\n",
    "def bubble_sort(ele):\n",
    "    return ele\n",
    "start_time = time.time()\n",
    "ele = None\n",
    "result  = bubble_sort(ele)\n",
    "end_time = time.time()\n",
    "print(\"{}, time taken {:.3f}\".format(result, ((start_time - end_time))))"
   ]
  },
  {
   "cell_type": "code",
   "execution_count": 85,
   "metadata": {},
   "outputs": [
    {
     "name": "stdout",
     "output_type": "stream",
     "text": [
      "[1, 2, 5, 9, 34, 34, 67, 88], time taken 0.000\n"
     ]
    }
   ],
   "source": [
    "import time\n",
    "def bubble_sort(ele):\n",
    "    n = len(ele)\n",
    "    for k in range(n - 1):\n",
    "        for i in range(n -1 - k):\n",
    "            if ele[i] > ele[i + 1]:\n",
    "                ele[i], ele[i + 1] = ele[i + 1], ele[i]\n",
    "    return ele\n",
    "start_time = time.time()\n",
    "result = bubble_sort(ele = [5, 9, 2, 1, 67, 34, 88, 34])\n",
    "end_time = time.time()\n",
    "print(\"{}, time taken {:.3f}\".format(result, ((start_time - end_time))))"
   ]
  },
  {
   "cell_type": "code",
   "execution_count": 88,
   "metadata": {},
   "outputs": [
    {
     "name": "stdout",
     "output_type": "stream",
     "text": [
      "[{'name': 'aamir', 'transaction_amount': 200, 'device': 'vivo'}, {'name': 'monaj', 'transaction_amount': 400, 'device': 'google pixel'}, {'name': 'dhaval', 'transaction_amount': 800, 'device': 'iphone-8'}, {'name': 'kathy', 'transaction_amount': 1000, 'device': 'iphone-10'}], time taken 0.000\n"
     ]
    }
   ],
   "source": [
    "import time\n",
    "def bubble_sort(ele, vkey):\n",
    "    size = len(ele)\n",
    "    for k in range(size - 1):\n",
    "        for i in range(size - 1 - k):\n",
    "            if ele[i][vkey] > ele[i+1][vkey]:\n",
    "                ele[i], ele[i+1] = ele[i+1], ele[i]\n",
    "    return ele\n",
    "start_time = time.time()\n",
    "ele = [\n",
    "    { 'name': 'dhaval', 'transaction_amount': 800, 'device': 'iphone-8' },\n",
    "    { 'name': 'monaj', 'transaction_amount': 400, 'device': 'google pixel' },\n",
    "    { 'name': 'aamir', 'transaction_amount': 200, 'device': 'vivo' },\n",
    "    { 'name': 'kathy', 'transaction_amount': 1000, 'device': 'iphone-10' },\n",
    "]\n",
    "result = bubble_sort(ele, 'transaction_amount')\n",
    "end_time = time.time()\n",
    "print(\"{}, time taken {:.3f}\".format(result, ((start_time - end_time))))"
   ]
  },
  {
   "cell_type": "code",
   "execution_count": 111,
   "metadata": {},
   "outputs": [
    {
     "name": "stdout",
     "output_type": "stream",
     "text": [
      "[1, 2, 3, 5, 8], time taken 0.000\n"
     ]
    }
   ],
   "source": [
    "'''\n",
    "1. Basic Bubble Sort\n",
    "Question: Implement bubble sort to sort a list of integers in ascending order.\n",
    "Input: [5, 3, 8, 1, 2]\n",
    "Output: [1, 2, 3, 5, 8]\n",
    "'''\n",
    "import time\n",
    "def bubble_sort(ele):\n",
    "    n = len(ele)\n",
    "    for k in range(n):\n",
    "        swapped = False\n",
    "        for i in range(n - 1 - k):\n",
    "            if ele[i] > ele[i + 1]:\n",
    "                ele[i], ele[i + 1] = ele[i  + 1], ele[i]\n",
    "                swapped = True\n",
    "        if not swapped:\n",
    "            break\n",
    "    return ele\n",
    "start_time = time.time()\n",
    "ele = [5, 3, 8, 1, 2]\n",
    "result = bubble_sort(ele)\n",
    "end_time = time.time()\n",
    "print(\"{}, time taken {:.3f}\".format(result, ((start_time - end_time))))"
   ]
  },
  {
   "cell_type": "code",
   "execution_count": null,
   "metadata": {},
   "outputs": [
    {
     "name": "stdout",
     "output_type": "stream",
     "text": [
      "[8, 5, 3, 2, 1], time taken 0.000\n"
     ]
    }
   ],
   "source": [
    "'''\n",
    "2. Descending Order Bubble Sort\n",
    "Question: Modify bubble sort to sort a list of integers in descending order.\n",
    "Input: [5, 3, 8, 1, 2]\n",
    "Output: [8, 5, 3, 2, 1]\n",
    "'''\n",
    "import time\n",
    "def bubble_sort(ele):\n",
    "    n = len(ele)\n",
    "    for k in range(n):\n",
    "        swapped = False\n",
    "        for i in range(n - 1 - k):\n",
    "            if ele[i] < ele[i + 1]:\n",
    "                ele[i], ele[i + 1] = ele[i + 1], ele[i]\n",
    "                swapped = True\n",
    "    return ele\n",
    "start_time = time.time()\n",
    "ele = [5, 3, 8, 1, 2]\n",
    "result = bubble_sort(ele)\n",
    "end_time = time.time()\n",
    "print(\"{}, time taken {:.3f}\".format(result, ((start_time - end_time))))"
   ]
  },
  {
   "cell_type": "code",
   "execution_count": 187,
   "metadata": {},
   "outputs": [
    {
     "name": "stdout",
     "output_type": "stream",
     "text": [
      "([1, 2, 3, 5, 8], 7), time taken 0.000\n"
     ]
    }
   ],
   "source": [
    "'''\n",
    "3. Count Swaps in Bubble Sort\n",
    "Question: Implement bubble sort and count the number of swaps performed during the sorting process.\n",
    "Input: [5, 3, 8, 1, 2]\n",
    "Output:\n",
    "\n",
    "Copy\n",
    "Sorted List: [1, 2, 3, 5, 8]  \n",
    "Number of Swaps: 7\n",
    "'''\n",
    "import time\n",
    "def bubble_sort(ele, count = 0):\n",
    "    n = len(ele)\n",
    "    for k in range(n):\n",
    "        swapped = False\n",
    "        for i in range(n - 1 - k):\n",
    "            if ele[i] > ele[i + 1]:\n",
    "                ele[i], ele[i + 1] = ele[i + 1], ele[i]\n",
    "                swapped, count = True, count + 1\n",
    "        if not swapped:\n",
    "            break\n",
    "    return ele, count\n",
    "start_time = time.time()\n",
    "ele = [5, 3, 8, 1, 2]\n",
    "result = bubble_sort(ele)\n",
    "end_time = time.time()\n",
    "print(\"{}, time taken {:.3f}\".format(result, ((start_time - end_time))))"
   ]
  },
  {
   "cell_type": "code",
   "execution_count": 141,
   "metadata": {},
   "outputs": [
    {
     "name": "stdout",
     "output_type": "stream",
     "text": [
      "([1, 2, 3, 4, 5], 1), time taken 0.000\n"
     ]
    }
   ],
   "source": [
    "'''\n",
    "4. Optimized Bubble Sort\n",
    "Question: Implement an optimized version of bubble sort that stops early if the list becomes sorted before completing all passes.\n",
    "Input: [1, 2, 3, 4, 5]\n",
    "Output:\n",
    "\n",
    "Copy\n",
    "Sorted List: [1, 2, 3, 4, 5]  \n",
    "Algorithm stopped early after 1 pass.\n",
    "'''\n",
    "\n",
    "import time\n",
    "def bubble_sort(ele, count = 0):\n",
    "    n = len(ele)\n",
    "    for k in range(n):\n",
    "        swap, count = False, count + 1\n",
    "        for i in range(n - 1):\n",
    "            if ele[i] > ele[i + 1]:\n",
    "                ele[i], ele[i + 1] = ele[i + 1], ele[i]\n",
    "                swap = True\n",
    "        if not swap:\n",
    "            break\n",
    "    return ele, count\n",
    "start_time = time.time()\n",
    "ele = [1, 2, 3, 4, 5]\n",
    "result  = bubble_sort(ele)\n",
    "end_time = time.time()\n",
    "print(\"{}, time taken {:.3f}\".format(result, ((start_time - end_time))))"
   ]
  },
  {
   "cell_type": "code",
   "execution_count": 169,
   "metadata": {},
   "outputs": [
    {
     "name": "stdout",
     "output_type": "stream",
     "text": [
      "[(4, 1), (2, 2), (1, 3)], time taken 0.000\n"
     ]
    }
   ],
   "source": [
    "'''\n",
    "6. Sort a List of Tuples\n",
    "Question: Use bubble sort to sort a list of tuples based on the second element of each tuple.\n",
    "Input: [(1, 3), (4, 1), (2, 2)]\n",
    "Output: [(4, 1), (2, 2), (1, 3)]\n",
    "'''\n",
    "import time\n",
    "def bubble_sort(ele):\n",
    "    n = len(ele)\n",
    "    for k in range(n - 1):\n",
    "        swap = False\n",
    "        for i in range(n - 1):\n",
    "            if ele[k][i] > ele[k +1][i]:\n",
    "                ele[k], ele[k + 1] = ele[k + 1], ele[k]\n",
    "                swap = True\n",
    "        if not swap:\n",
    "            break\n",
    "    return ele\n",
    "start_time = time.time()\n",
    "ele = [(1, 3), (4, 1), (2, 2)]\n",
    "result  = bubble_sort(ele)\n",
    "end_time = time.time()\n",
    "print(\"{}, time taken {:.3f}\".format(result, ((start_time - end_time))))"
   ]
  },
  {
   "cell_type": "code",
   "execution_count": 185,
   "metadata": {},
   "outputs": [
    {
     "name": "stdout",
     "output_type": "stream",
     "text": [
      "[2, 4, 8, 5, 3, 1], time taken 0.000\n"
     ]
    }
   ],
   "source": [
    "'''\n",
    "7. Sort Even and Odd Numbers Separately\n",
    "Question: Use bubble sort to sort even numbers in ascending order and odd numbers in descending order in a single list.\n",
    "Input: [5, 3, 2, 8, 1, 4]\n",
    "Output: [2, 4, 8, 5, 3, 1]\n",
    "'''\n",
    "\n",
    "import time\n",
    "def bubble_sort(ele, count = 0):\n",
    "    n = len(ele)\n",
    "    even = [i for i in ele if i % 2 == 0]\n",
    "    odd = [i for i in ele if i % 2 != 0]\n",
    "    for k in range(len(even)):\n",
    "        swap, count = False, count + 1\n",
    "        for i in range(len(even) - 1):\n",
    "            if even[i] > even[i + 1]:\n",
    "                even[i], even[i + 1] = even[i + 1], even[i]\n",
    "                swap = True\n",
    "        if not swap:\n",
    "            break\n",
    "    for k in range(len(odd)):\n",
    "        swap, count = False, count + 1\n",
    "        for i in range(len(odd) - 1):\n",
    "            if odd[i] < odd[i + 1]:\n",
    "                odd[i], odd[i + 1] = odd[i + 1], odd[i]\n",
    "                swap = True\n",
    "        if not swap:\n",
    "            break\n",
    "    return even + odd\n",
    "start_time = time.time()\n",
    "ele = [5, 3, 2, 8, 1, 4]\n",
    "result  = bubble_sort(ele)\n",
    "end_time = time.time()\n",
    "print(\"{}, time taken {:.3f}\".format(result, ((start_time - end_time))))"
   ]
  },
  {
   "cell_type": "code",
   "execution_count": 193,
   "metadata": {},
   "outputs": [
    {
     "name": "stdout",
     "output_type": "stream",
     "text": [
      "[[3, 2], [0, 6], [1, 7]], time taken 0.000\n"
     ]
    }
   ],
   "source": [
    "'''\n",
    "8. Sort a 2D List\n",
    "Question: Use bubble sort to sort a 2D list (matrix) based on the sum of each row.\n",
    "Input: [[3, 2], [1, 7], [0, 6]]\n",
    "Output: [[3, 2], [0, 6], [1, 7]]\n",
    "'''\n",
    "import time\n",
    "def bubble_sort(ele):\n",
    "    n = len(ele)\n",
    "    for k in range(n):\n",
    "        swap = False\n",
    "        for i in range(n - 1 - k):\n",
    "            if sum(ele[i]) > sum(ele[i + 1]):\n",
    "                ele[i], ele[i + 1] = ele[i + 1], ele[i]\n",
    "                swap = True\n",
    "        if not swap:\n",
    "            break\n",
    "    return ele \n",
    "start_time = time.time()\n",
    "ele = [[3, 2], [1, 7], [0, 6]]\n",
    "result  = bubble_sort(ele)\n",
    "end_time = time.time()\n",
    "print(\"{}, time taken {:.3f}\".format(result, ((start_time - end_time))))    "
   ]
  },
  {
   "cell_type": "code",
   "execution_count": 24,
   "metadata": {},
   "outputs": [
    {
     "name": "stdout",
     "output_type": "stream",
     "text": [
      "[1, 2, 3, 5, 8], time taken 0.000\n"
     ]
    }
   ],
   "source": [
    "'''\n",
    "3. Count Swaps in Bubble Sort\n",
    "Question: Implement bubble sort and count the number of swaps performed during the sorting process.\n",
    "Input: [5, 3, 8, 1, 2]\n",
    "Output:\n",
    "\n",
    "Copy\n",
    "Sorted List: [1, 2, 3, 5, 8]  \n",
    "Number of Swaps: 7\n",
    "'''\n",
    "import time\n",
    "def bubble_sort(ele):\n",
    "    n = len(ele)\n",
    "    for i in range(n - 1):\n",
    "        swap = False\n",
    "        for j in range(n - 1 - i):\n",
    "            if ele[j] > ele[j + 1]:\n",
    "                ele[j], ele[j + 1] = ele[j + 1], ele[j]\n",
    "                swap = True\n",
    "        if not swap:\n",
    "            break\n",
    "    return ele\n",
    "start_time = time.time()\n",
    "ele = [5, 3, 8, 1, 2]\n",
    "result  = bubble_sort(ele)\n",
    "end_time = time.time()\n",
    "print(\"{}, time taken {:.3f}\".format(result, ((start_time - end_time))))"
   ]
  },
  {
   "cell_type": "code",
   "execution_count": 21,
   "metadata": {},
   "outputs": [
    {
     "name": "stdout",
     "output_type": "stream",
     "text": [
      "[7, 8, 17, 19, 23, 30, 44, 55, 75, 82], time taken 0.000\n"
     ]
    }
   ],
   "source": [
    "import time\n",
    "def bubble_sort(ele):\n",
    "    n = len(ele)\n",
    "    for k in range(n - 1):\n",
    "        swap = False\n",
    "        for i in range(n - 1 - i):\n",
    "            if ele[i] > ele[i + 1]:\n",
    "                ele[i], ele[i + 1] = ele[i + 1], ele[i]\n",
    "                swap = True\n",
    "        if not swap:\n",
    "            break\n",
    "    return ele\n",
    "start_time = time.time()\n",
    "ele = [23, 7, 82, 55, 44, 75, 30, 19, 8, 17]\n",
    "result  = bubble_sort(ele)\n",
    "end_time = time.time()\n",
    "print(\"{}, time taken {:.3f}\".format(result, ((start_time - end_time))))"
   ]
  }
 ],
 "metadata": {
  "kernelspec": {
   "display_name": "base",
   "language": "python",
   "name": "python3"
  },
  "language_info": {
   "codemirror_mode": {
    "name": "ipython",
    "version": 3
   },
   "file_extension": ".py",
   "mimetype": "text/x-python",
   "name": "python",
   "nbconvert_exporter": "python",
   "pygments_lexer": "ipython3",
   "version": "3.11.7"
  }
 },
 "nbformat": 4,
 "nbformat_minor": 2
}
